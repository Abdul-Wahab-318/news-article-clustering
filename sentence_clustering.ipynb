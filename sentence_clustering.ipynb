{
 "cells": [
  {
   "cell_type": "code",
   "execution_count": 20,
   "id": "3d275e7e",
   "metadata": {},
   "outputs": [],
   "source": [
    "#pip install tf-keras"
   ]
  },
  {
   "cell_type": "code",
   "execution_count": 21,
   "id": "fbd4785a",
   "metadata": {},
   "outputs": [],
   "source": [
    "from sentence_transformers import SentenceTransformer\n",
    "\n",
    "from sklearn.pipeline import Pipeline\n",
    "from sklearn.base import BaseEstimator , TransformerMixin\n",
    "from sklearn.decomposition import PCA\n",
    "from sklearn.cluster import DBSCAN\n",
    "\n",
    "from sklearn.metrics import silhouette_score\n"
   ]
  },
  {
   "cell_type": "code",
   "execution_count": 26,
   "id": "2b1a4eac",
   "metadata": {},
   "outputs": [],
   "source": [
    "import warnings\n",
    "warnings.simplefilter(action='ignore', category=FutureWarning)"
   ]
  },
  {
   "cell_type": "code",
   "execution_count": 22,
   "id": "c398d8e1",
   "metadata": {},
   "outputs": [],
   "source": [
    "from pymongo import MongoClient\n",
    "\n",
    "URI = \"mongodb://localhost:27017/\"\n",
    "client = MongoClient(URI)\n",
    "db = client['neutra_news_test']\n",
    "news_articles_collection = db['news_articles']"
   ]
  },
  {
   "cell_type": "code",
   "execution_count": 23,
   "id": "5350427b",
   "metadata": {},
   "outputs": [
    {
     "data": {
      "text/plain": [
       "25"
      ]
     },
     "execution_count": 23,
     "metadata": {},
     "output_type": "execute_result"
    }
   ],
   "source": [
    "pipeline = [\n",
    "    {\n",
    "        '$match': { 'group_headline' : {'$exists' : False } }\n",
    "    },\n",
    "    {\n",
    "        '$group' : {\n",
    "            '_id' : {\n",
    "                '$dateToString': {\n",
    "                    'format': '%Y-%m-%d',  # Format the date to include only year, month, and day\n",
    "                    'date': '$publish_date'\n",
    "                }\n",
    "            },\n",
    "            'titles' : {'$push' : '$title'},\n",
    "            'ids' : {'$push' : '$_id'}\n",
    "        }\n",
    "    },\n",
    "    {\n",
    "        '$sort': {'_id': 1}  # Sort by the formatted date in ascending order\n",
    "    }\n",
    "]\n",
    "aggregated_result = news_articles_collection.aggregate(pipeline)\n",
    "aggregated_result = list(aggregated_result)\n",
    "len(aggregated_result)"
   ]
  },
  {
   "cell_type": "code",
   "execution_count": 24,
   "id": "09ae5406",
   "metadata": {},
   "outputs": [
    {
     "name": "stderr",
     "output_type": "stream",
     "text": [
      "E:\\anaconda\\Lib\\site-packages\\huggingface_hub\\file_download.py:1150: FutureWarning: `resume_download` is deprecated and will be removed in version 1.0.0. Downloads always resume when possible. If you want to force a new download, use `force_download=True`.\n",
      "  warnings.warn(\n"
     ]
    }
   ],
   "source": [
    "class EmbeddingTransformer(BaseEstimator , TransformerMixin):\n",
    "    \n",
    "    def __init__(self , model_name = \"all-MiniLM-L6-v2\"):\n",
    "        self.model = SentenceTransformer(model_name)\n",
    "        \n",
    "    def fit(self , X , y=None):\n",
    "        return self\n",
    "    \n",
    "    def transform(self , X):\n",
    "        return self.model.encode(X)\n",
    "    \n",
    "embeddingTransformer = EmbeddingTransformer()\n",
    "pca = PCA(n_components=0.90)\n",
    "dbscan = DBSCAN(eps=0.6 , min_samples=2)\n",
    "\n",
    "pipeline = Pipeline([\n",
    "    ('embedding' , embeddingTransformer),\n",
    "    ('pca' , pca),\n",
    "    ('dbscan' , dbscan)\n",
    "])\n"
   ]
  },
  {
   "cell_type": "code",
   "execution_count": 25,
   "id": "3118c0df",
   "metadata": {},
   "outputs": [
    {
     "name": "stderr",
     "output_type": "stream",
     "text": [
      "E:\\anaconda\\Lib\\site-packages\\huggingface_hub\\file_download.py:1150: FutureWarning: `resume_download` is deprecated and will be removed in version 1.0.0. Downloads always resume when possible. If you want to force a new download, use `force_download=True`.\n",
      "  warnings.warn(\n"
     ]
    },
    {
     "name": "stdout",
     "output_type": "stream",
     "text": [
      "7 7\n",
      "Not enough distinct labels to compute silhouette score.\n"
     ]
    },
    {
     "name": "stderr",
     "output_type": "stream",
     "text": [
      "E:\\anaconda\\Lib\\site-packages\\huggingface_hub\\file_download.py:1150: FutureWarning: `resume_download` is deprecated and will be removed in version 1.0.0. Downloads always resume when possible. If you want to force a new download, use `force_download=True`.\n",
      "  warnings.warn(\n"
     ]
    },
    {
     "name": "stdout",
     "output_type": "stream",
     "text": [
      "6 6\n",
      "Not enough distinct labels to compute silhouette score.\n"
     ]
    },
    {
     "name": "stderr",
     "output_type": "stream",
     "text": [
      "E:\\anaconda\\Lib\\site-packages\\huggingface_hub\\file_download.py:1150: FutureWarning: `resume_download` is deprecated and will be removed in version 1.0.0. Downloads always resume when possible. If you want to force a new download, use `force_download=True`.\n",
      "  warnings.warn(\n"
     ]
    },
    {
     "name": "stdout",
     "output_type": "stream",
     "text": [
      "18 18\n",
      "Silhouette: 0.123354994\n"
     ]
    },
    {
     "name": "stderr",
     "output_type": "stream",
     "text": [
      "E:\\anaconda\\Lib\\site-packages\\huggingface_hub\\file_download.py:1150: FutureWarning: `resume_download` is deprecated and will be removed in version 1.0.0. Downloads always resume when possible. If you want to force a new download, use `force_download=True`.\n",
      "  warnings.warn(\n"
     ]
    },
    {
     "name": "stdout",
     "output_type": "stream",
     "text": [
      "31 31\n",
      "Silhouette: 0.35830185\n"
     ]
    },
    {
     "name": "stderr",
     "output_type": "stream",
     "text": [
      "E:\\anaconda\\Lib\\site-packages\\huggingface_hub\\file_download.py:1150: FutureWarning: `resume_download` is deprecated and will be removed in version 1.0.0. Downloads always resume when possible. If you want to force a new download, use `force_download=True`.\n",
      "  warnings.warn(\n"
     ]
    },
    {
     "name": "stdout",
     "output_type": "stream",
     "text": [
      "42 42\n",
      "Silhouette: 0.15336907\n"
     ]
    },
    {
     "name": "stderr",
     "output_type": "stream",
     "text": [
      "E:\\anaconda\\Lib\\site-packages\\huggingface_hub\\file_download.py:1150: FutureWarning: `resume_download` is deprecated and will be removed in version 1.0.0. Downloads always resume when possible. If you want to force a new download, use `force_download=True`.\n",
      "  warnings.warn(\n"
     ]
    },
    {
     "name": "stdout",
     "output_type": "stream",
     "text": [
      "43 43\n",
      "Silhouette: 0.24541554\n"
     ]
    },
    {
     "name": "stderr",
     "output_type": "stream",
     "text": [
      "E:\\anaconda\\Lib\\site-packages\\huggingface_hub\\file_download.py:1150: FutureWarning: `resume_download` is deprecated and will be removed in version 1.0.0. Downloads always resume when possible. If you want to force a new download, use `force_download=True`.\n",
      "  warnings.warn(\n"
     ]
    },
    {
     "name": "stdout",
     "output_type": "stream",
     "text": [
      "40 40\n",
      "Silhouette: 0.24476735\n"
     ]
    },
    {
     "name": "stderr",
     "output_type": "stream",
     "text": [
      "E:\\anaconda\\Lib\\site-packages\\huggingface_hub\\file_download.py:1150: FutureWarning: `resume_download` is deprecated and will be removed in version 1.0.0. Downloads always resume when possible. If you want to force a new download, use `force_download=True`.\n",
      "  warnings.warn(\n"
     ]
    },
    {
     "name": "stdout",
     "output_type": "stream",
     "text": [
      "36 36\n",
      "Silhouette: 0.15917109\n"
     ]
    },
    {
     "name": "stderr",
     "output_type": "stream",
     "text": [
      "E:\\anaconda\\Lib\\site-packages\\huggingface_hub\\file_download.py:1150: FutureWarning: `resume_download` is deprecated and will be removed in version 1.0.0. Downloads always resume when possible. If you want to force a new download, use `force_download=True`.\n",
      "  warnings.warn(\n"
     ]
    },
    {
     "name": "stdout",
     "output_type": "stream",
     "text": [
      "44 44\n",
      "Silhouette: 0.058846366\n"
     ]
    },
    {
     "name": "stderr",
     "output_type": "stream",
     "text": [
      "E:\\anaconda\\Lib\\site-packages\\huggingface_hub\\file_download.py:1150: FutureWarning: `resume_download` is deprecated and will be removed in version 1.0.0. Downloads always resume when possible. If you want to force a new download, use `force_download=True`.\n",
      "  warnings.warn(\n"
     ]
    },
    {
     "name": "stdout",
     "output_type": "stream",
     "text": [
      "43 43\n",
      "Silhouette: 0.21189731\n"
     ]
    },
    {
     "name": "stderr",
     "output_type": "stream",
     "text": [
      "E:\\anaconda\\Lib\\site-packages\\huggingface_hub\\file_download.py:1150: FutureWarning: `resume_download` is deprecated and will be removed in version 1.0.0. Downloads always resume when possible. If you want to force a new download, use `force_download=True`.\n",
      "  warnings.warn(\n"
     ]
    },
    {
     "name": "stdout",
     "output_type": "stream",
     "text": [
      "27 27\n",
      "Silhouette: 0.25932348\n"
     ]
    },
    {
     "name": "stderr",
     "output_type": "stream",
     "text": [
      "E:\\anaconda\\Lib\\site-packages\\huggingface_hub\\file_download.py:1150: FutureWarning: `resume_download` is deprecated and will be removed in version 1.0.0. Downloads always resume when possible. If you want to force a new download, use `force_download=True`.\n",
      "  warnings.warn(\n"
     ]
    },
    {
     "name": "stdout",
     "output_type": "stream",
     "text": [
      "44 44\n",
      "Silhouette: 0.23100811\n"
     ]
    },
    {
     "name": "stderr",
     "output_type": "stream",
     "text": [
      "E:\\anaconda\\Lib\\site-packages\\huggingface_hub\\file_download.py:1150: FutureWarning: `resume_download` is deprecated and will be removed in version 1.0.0. Downloads always resume when possible. If you want to force a new download, use `force_download=True`.\n",
      "  warnings.warn(\n"
     ]
    },
    {
     "name": "stdout",
     "output_type": "stream",
     "text": [
      "52 52\n",
      "Silhouette: 0.2788058\n"
     ]
    },
    {
     "name": "stderr",
     "output_type": "stream",
     "text": [
      "E:\\anaconda\\Lib\\site-packages\\huggingface_hub\\file_download.py:1150: FutureWarning: `resume_download` is deprecated and will be removed in version 1.0.0. Downloads always resume when possible. If you want to force a new download, use `force_download=True`.\n",
      "  warnings.warn(\n"
     ]
    },
    {
     "name": "stdout",
     "output_type": "stream",
     "text": [
      "28 28\n",
      "Silhouette: 0.12293905\n"
     ]
    },
    {
     "name": "stderr",
     "output_type": "stream",
     "text": [
      "E:\\anaconda\\Lib\\site-packages\\huggingface_hub\\file_download.py:1150: FutureWarning: `resume_download` is deprecated and will be removed in version 1.0.0. Downloads always resume when possible. If you want to force a new download, use `force_download=True`.\n",
      "  warnings.warn(\n"
     ]
    },
    {
     "name": "stdout",
     "output_type": "stream",
     "text": [
      "38 38\n",
      "Silhouette: 0.21139765\n"
     ]
    },
    {
     "name": "stderr",
     "output_type": "stream",
     "text": [
      "E:\\anaconda\\Lib\\site-packages\\huggingface_hub\\file_download.py:1150: FutureWarning: `resume_download` is deprecated and will be removed in version 1.0.0. Downloads always resume when possible. If you want to force a new download, use `force_download=True`.\n",
      "  warnings.warn(\n"
     ]
    },
    {
     "name": "stdout",
     "output_type": "stream",
     "text": [
      "18 18\n",
      "Silhouette: 0.12124349\n"
     ]
    },
    {
     "name": "stderr",
     "output_type": "stream",
     "text": [
      "E:\\anaconda\\Lib\\site-packages\\huggingface_hub\\file_download.py:1150: FutureWarning: `resume_download` is deprecated and will be removed in version 1.0.0. Downloads always resume when possible. If you want to force a new download, use `force_download=True`.\n",
      "  warnings.warn(\n"
     ]
    },
    {
     "name": "stdout",
     "output_type": "stream",
     "text": [
      "30 30\n",
      "Silhouette: 0.3855828\n"
     ]
    },
    {
     "name": "stderr",
     "output_type": "stream",
     "text": [
      "E:\\anaconda\\Lib\\site-packages\\huggingface_hub\\file_download.py:1150: FutureWarning: `resume_download` is deprecated and will be removed in version 1.0.0. Downloads always resume when possible. If you want to force a new download, use `force_download=True`.\n",
      "  warnings.warn(\n"
     ]
    },
    {
     "name": "stdout",
     "output_type": "stream",
     "text": [
      "20 20\n",
      "Silhouette: 0.3130794\n"
     ]
    },
    {
     "name": "stderr",
     "output_type": "stream",
     "text": [
      "E:\\anaconda\\Lib\\site-packages\\huggingface_hub\\file_download.py:1150: FutureWarning: `resume_download` is deprecated and will be removed in version 1.0.0. Downloads always resume when possible. If you want to force a new download, use `force_download=True`.\n",
      "  warnings.warn(\n"
     ]
    },
    {
     "name": "stdout",
     "output_type": "stream",
     "text": [
      "26 26\n",
      "Silhouette: 0.1734303\n"
     ]
    },
    {
     "name": "stderr",
     "output_type": "stream",
     "text": [
      "E:\\anaconda\\Lib\\site-packages\\huggingface_hub\\file_download.py:1150: FutureWarning: `resume_download` is deprecated and will be removed in version 1.0.0. Downloads always resume when possible. If you want to force a new download, use `force_download=True`.\n",
      "  warnings.warn(\n"
     ]
    },
    {
     "name": "stdout",
     "output_type": "stream",
     "text": [
      "42 42\n",
      "Silhouette: 0.22777131\n"
     ]
    },
    {
     "name": "stderr",
     "output_type": "stream",
     "text": [
      "E:\\anaconda\\Lib\\site-packages\\huggingface_hub\\file_download.py:1150: FutureWarning: `resume_download` is deprecated and will be removed in version 1.0.0. Downloads always resume when possible. If you want to force a new download, use `force_download=True`.\n",
      "  warnings.warn(\n"
     ]
    },
    {
     "name": "stdout",
     "output_type": "stream",
     "text": [
      "46 46\n",
      "Silhouette: 0.25286952\n"
     ]
    },
    {
     "name": "stderr",
     "output_type": "stream",
     "text": [
      "E:\\anaconda\\Lib\\site-packages\\huggingface_hub\\file_download.py:1150: FutureWarning: `resume_download` is deprecated and will be removed in version 1.0.0. Downloads always resume when possible. If you want to force a new download, use `force_download=True`.\n",
      "  warnings.warn(\n"
     ]
    },
    {
     "name": "stdout",
     "output_type": "stream",
     "text": [
      "15 15\n",
      "Silhouette: 0.4170494\n"
     ]
    },
    {
     "name": "stderr",
     "output_type": "stream",
     "text": [
      "E:\\anaconda\\Lib\\site-packages\\huggingface_hub\\file_download.py:1150: FutureWarning: `resume_download` is deprecated and will be removed in version 1.0.0. Downloads always resume when possible. If you want to force a new download, use `force_download=True`.\n",
      "  warnings.warn(\n"
     ]
    },
    {
     "name": "stdout",
     "output_type": "stream",
     "text": [
      "41 41\n",
      "Silhouette: 0.10939828\n"
     ]
    },
    {
     "name": "stderr",
     "output_type": "stream",
     "text": [
      "E:\\anaconda\\Lib\\site-packages\\huggingface_hub\\file_download.py:1150: FutureWarning: `resume_download` is deprecated and will be removed in version 1.0.0. Downloads always resume when possible. If you want to force a new download, use `force_download=True`.\n",
      "  warnings.warn(\n"
     ]
    },
    {
     "name": "stdout",
     "output_type": "stream",
     "text": [
      "36 36\n",
      "Silhouette: 0.19987768\n"
     ]
    },
    {
     "name": "stderr",
     "output_type": "stream",
     "text": [
      "E:\\anaconda\\Lib\\site-packages\\huggingface_hub\\file_download.py:1150: FutureWarning: `resume_download` is deprecated and will be removed in version 1.0.0. Downloads always resume when possible. If you want to force a new download, use `force_download=True`.\n",
      "  warnings.warn(\n"
     ]
    },
    {
     "name": "stdout",
     "output_type": "stream",
     "text": [
      "39 39\n",
      "Silhouette: 0.1359925\n"
     ]
    }
   ],
   "source": [
    "group_headlines_collection = db['group_headlines']\n",
    "\n",
    "def get_articles_grouped_by_date():\n",
    "    aggregate_query = [\n",
    "        {\n",
    "            '$group' : {\n",
    "                '_id' : {\n",
    "                    '$dateToString': {\n",
    "                        'format': '%Y-%m-%d',  # Format the date to include only year, month, and day\n",
    "                        'date': '$publish_date'\n",
    "                    }\n",
    "                },\n",
    "                'titles' : {'$push' : '$title'},\n",
    "                'ids' : {'$push' : '$_id'}\n",
    "            }\n",
    "        },\n",
    "        {\n",
    "            '$sort': {'_id': 1}  # Sort by the formatted date in ascending order\n",
    "        }\n",
    "    ]\n",
    "    aggregated_result = news_articles_collection.aggregate(aggregate_query)\n",
    "    aggregated_result = list(aggregated_result)\n",
    "    \n",
    "    return aggregated_result\n",
    "\n",
    "def print_silhouette_score(titles, labels):\n",
    "    titles_embeddings = SentenceTransformer('all-MiniLM-L6-v2').encode(titles)\n",
    "    print(len(titles_embeddings), len(labels))\n",
    "    \n",
    "    unique_labels = set(labels)\n",
    "    if len(unique_labels) > 1:  # At least 2 distinct labels are needed\n",
    "        score = silhouette_score(titles_embeddings, labels)\n",
    "        print('Silhouette:', score)\n",
    "    else:\n",
    "        print('Not enough distinct labels to compute silhouette score.')\n",
    "\n",
    "\n",
    "\n",
    "def assign_headlines():\n",
    "    articles_grouped_by_date = get_articles_grouped_by_date()\n",
    "    \n",
    "    for articles_in_day in articles_grouped_by_date:\n",
    "        blindspots = 0\n",
    "        titles = articles_in_day['titles']\n",
    "        title_ids = articles_in_day['ids']\n",
    "        \n",
    "        labels = pipeline.fit_predict(titles)\n",
    "        title_with_ids_labels = zip(title_ids , titles , labels)\n",
    "        title_with_ids_labels = sorted(title_with_ids_labels , key = lambda x : x[2])\n",
    "        \n",
    "        print_silhouette_score(titles , labels)\n",
    "        continue\n",
    "        #we need to have one single headline for a given cluster , so assign a single headline to each cluster label\n",
    "        headlines_map = {}\n",
    "        for article in title_with_ids_labels:\n",
    "            if (article[2] == -1 or article[2] in headlines_map) : #if it is an anomaly or already processed then skip\n",
    "                continue\n",
    "            else:\n",
    "                headlines_map[article[2]] = article[1]\n",
    "        \n",
    "        #now we need to insert headlines into db and get their ids so we can assign the id of a headline to their \n",
    "        #respective clusters\n",
    "        headlines_objectId_map = {}\n",
    "        for key , value in headlines_map.items():\n",
    "            inserted_doc = group_headlines_collection.insert_one({'title' : value , 'date' : articles_in_day['_id'] , \n",
    "                                                                  'blindspot' : False})\n",
    "            headlines_objectId_map[key] = inserted_doc.inserted_id\n",
    "        \n",
    "        #now we need to update news articles with the new 'group_headline' and 'blindspot' fields\n",
    "        for article in title_with_ids_labels:\n",
    "            if(article[2] == -1):\n",
    "                blindspots += 1\n",
    "                inserted_headline = group_headlines_collection.insert_one(\n",
    "                    {\n",
    "                     'title' : article[1] , \n",
    "                     'date' : articles_in_day['_id'] , \n",
    "                     'blindspot' : True\n",
    "                    }\n",
    "                )\n",
    "\n",
    "                updated_article = news_articles_collection.update_one(\n",
    "                    {'_id' : article[0]} ,\n",
    "                    {'$set' : {'group_headline': inserted_headline.inserted_id , 'blindspot' : True}}\n",
    "                )\n",
    "            else:\n",
    "                updated_doc = news_articles_collection.update_one(\n",
    "                    {'_id':article[0]} ,\n",
    "                    {'$set':{'group_headline':headlines_objectId_map[article[2]] ,'blindspot' : False}}\n",
    "                )\n",
    "        print('Total articles on date ' , articles_in_day['_id'] , \" : \" , len(titles))\n",
    "        print('Total headlines : ' , len(headlines_map))\n",
    "        print('Total blindspots : ' , blindspots)\n",
    "    \n",
    "assign_headlines()"
   ]
  },
  {
   "cell_type": "code",
   "execution_count": null,
   "id": "48dc736c",
   "metadata": {},
   "outputs": [],
   "source": []
  }
 ],
 "metadata": {
  "kernelspec": {
   "display_name": "Python 3 (ipykernel)",
   "language": "python",
   "name": "python3"
  },
  "language_info": {
   "codemirror_mode": {
    "name": "ipython",
    "version": 3
   },
   "file_extension": ".py",
   "mimetype": "text/x-python",
   "name": "python",
   "nbconvert_exporter": "python",
   "pygments_lexer": "ipython3",
   "version": "3.11.5"
  }
 },
 "nbformat": 4,
 "nbformat_minor": 5
}
